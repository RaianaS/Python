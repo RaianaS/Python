{
 "cells": [
  {
   "cell_type": "markdown",
   "metadata": {},
   "source": [
    "Tipos Primitivos e Saída de Dados\n",
    "=====================================\n",
    "int - Inteiro (7, -4, 0, 9875)\n",
    "\n",
    "float - Número Real (3.14, -0.1, 0.0)\n",
    "\n",
    "bool - Lógico (True/False) - (Verdadeiro ou Falso)\n",
    "\n",
    "string - String (Cadeia de Caracteres) - (\"Olá, Mundo!\", '123', '')"
   ]
  },
  {
   "cell_type": "code",
   "execution_count": 1,
   "metadata": {},
   "outputs": [
    {
     "ename": "ValueError",
     "evalue": "could not convert string to float: ''",
     "output_type": "error",
     "traceback": [
      "\u001b[1;31m---------------------------------------------------------------------------\u001b[0m",
      "\u001b[1;31mValueError\u001b[0m                                Traceback (most recent call last)",
      "Cell \u001b[1;32mIn[1], line 1\u001b[0m\n\u001b[1;32m----> 1\u001b[0m n \u001b[38;5;241m=\u001b[39m \u001b[38;5;28;43mfloat\u001b[39;49m\u001b[43m(\u001b[49m\u001b[38;5;28;43minput\u001b[39;49m\u001b[43m(\u001b[49m\u001b[38;5;124;43m'\u001b[39;49m\u001b[38;5;124;43mDigite um valor\u001b[39;49m\u001b[38;5;124;43m'\u001b[39;49m\u001b[43m)\u001b[49m\u001b[43m)\u001b[49m\n\u001b[0;32m      2\u001b[0m \u001b[38;5;28mprint\u001b[39m(n)\n",
      "\u001b[1;31mValueError\u001b[0m: could not convert string to float: ''"
     ]
    }
   ],
   "source": [
    "n = float(input('Digite um valor'))\n",
    "print(n)"
   ]
  },
  {
   "cell_type": "code",
   "execution_count": 10,
   "metadata": {},
   "outputs": [
    {
     "name": "stdout",
     "output_type": "stream",
     "text": [
      "A soma vale 24\n"
     ]
    }
   ],
   "source": [
    "n1 = int(input('Digite um valor'))\n",
    "n2 = int(input('Digite outro valor'))\n",
    "s = n1 + n2\n",
    "print('A soma vale', s)"
   ]
  },
  {
   "cell_type": "code",
   "execution_count": 5,
   "metadata": {},
   "outputs": [
    {
     "name": "stdout",
     "output_type": "stream",
     "text": [
      "A soma vale 12 e 12 vale 24\n"
     ]
    }
   ],
   "source": [
    "n1 = int(input('Digite um valor'))\n",
    "n2 = int(input('Digite outro valor'))\n",
    "s = n1 + n2\n",
    "print('A soma vale {} e {} vale {}'.format(n1, n2, s))"
   ]
  },
  {
   "cell_type": "markdown",
   "metadata": {},
   "source": [
    "# 04 - Dissecando uma Variável\n",
    "\n",
    "isnumeric() - contém apenas números (dígitos).\n",
    "\n",
    "isalpha() - contém somente letras (sem números ou espaços).\n",
    "\n",
    "isalnum() - contém apenas letras e/ou números, sem espaços ou caracteres especiais.\n",
    "\n",
    "isupper() - contém apenas letras maiúsculas.\n",
    "\n",
    "islower() - ontém apenas letras minúsculas.\n",
    "\n",
    "istitle() - capitalizada, ou seja, cada palavra começa com maiúscula e o restante está em minúscula.\n",
    "\n",
    "a.isspace() - contém apenas espaços\n"
   ]
  }
 ],
 "metadata": {
  "kernelspec": {
   "display_name": "Python 3",
   "language": "python",
   "name": "python3"
  },
  "language_info": {
   "codemirror_mode": {
    "name": "ipython",
    "version": 3
   },
   "file_extension": ".py",
   "mimetype": "text/x-python",
   "name": "python",
   "nbconvert_exporter": "python",
   "pygments_lexer": "ipython3",
   "version": "3.12.6"
  }
 },
 "nbformat": 4,
 "nbformat_minor": 2
}
