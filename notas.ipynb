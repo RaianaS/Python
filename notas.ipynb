{
 "cells": [
  {
   "cell_type": "markdown",
   "metadata": {},
   "source": [
    "Tipos Primitivos e Saída de Dados\n",
    "=====================================\n",
    "int - Inteiro (7, -4, 0, 9875)\n",
    "\n",
    "float - Número Real (3.14, -0.1, 0.0)\n",
    "\n",
    "bool - Lógico (True/False) - (Verdadeiro ou Falso)\n",
    "\n",
    "string - String (Cadeia de Caracteres) - (\"Olá, Mundo!\", '123', '')"
   ]
  },
  {
   "cell_type": "code",
   "execution_count": 4,
   "metadata": {},
   "outputs": [
    {
     "name": "stdout",
     "output_type": "stream",
     "text": [
      "A soma vale 24\n"
     ]
    }
   ],
   "source": [
    "n1 = int(input('Digite um valor'))\n",
    "n2 = int(input('Digite outro valor'))\n",
    "s = n1 + n2\n",
    "print('A soma vale', s)"
   ]
  },
  {
   "cell_type": "code",
   "execution_count": 5,
   "metadata": {},
   "outputs": [
    {
     "name": "stdout",
     "output_type": "stream",
     "text": [
      "A soma vale 12 e 12 vale 24\n"
     ]
    }
   ],
   "source": [
    "n1 = int(input('Digite um valor'))\n",
    "n2 = int(input('Digite outro valor'))\n",
    "s = n1 + n2\n",
    "print('A soma vale {} e {} vale {}'.format(n1, n2, s))"
   ]
  }
 ],
 "metadata": {
  "kernelspec": {
   "display_name": "Python 3",
   "language": "python",
   "name": "python3"
  },
  "language_info": {
   "codemirror_mode": {
    "name": "ipython",
    "version": 3
   },
   "file_extension": ".py",
   "mimetype": "text/x-python",
   "name": "python",
   "nbconvert_exporter": "python",
   "pygments_lexer": "ipython3",
   "version": "3.12.6"
  }
 },
 "nbformat": 4,
 "nbformat_minor": 2
}
