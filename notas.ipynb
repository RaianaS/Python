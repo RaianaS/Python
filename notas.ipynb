{
 "cells": [
  {
   "cell_type": "markdown",
   "metadata": {},
   "source": [
    "Tipos Primitivos e Saída de Dados\n",
    "=====================================\n",
    "int - Inteiro (7, -4, 0, 9875)\n",
    "\n",
    "float - Número Real (3.14, -0.1, 0.0)\n",
    "\n",
    "bool - Lógico (True/False) - (Verdadeiro ou Falso)\n",
    "\n",
    "string - String (Cadeia de Caracteres) - (\"Olá, Mundo!\", '123', '')"
   ]
  },
  {
   "cell_type": "code",
   "execution_count": null,
   "metadata": {},
   "outputs": [
    {
     "name": "stdout",
     "output_type": "stream",
     "text": [
      "8.0\n"
     ]
    }
   ],
   "source": [
    "n = float(input('Digite um valor'))\n",
    "print(n)"
   ]
  },
  {
   "cell_type": "code",
   "execution_count": 4,
   "metadata": {},
   "outputs": [
    {
     "name": "stdout",
     "output_type": "stream",
     "text": [
      "A soma vale 16\n"
     ]
    }
   ],
   "source": [
    "n1 = int(input('Digite um valor'))\n",
    "n2 = int(input('Digite outro valor'))\n",
    "s = n1 + n2\n",
    "print('A soma vale', s)"
   ]
  },
  {
   "cell_type": "code",
   "execution_count": 5,
   "metadata": {},
   "outputs": [
    {
     "ename": "ValueError",
     "evalue": "invalid literal for int() with base 10: ''",
     "output_type": "error",
     "traceback": [
      "\u001b[1;31m---------------------------------------------------------------------------\u001b[0m",
      "\u001b[1;31mValueError\u001b[0m                                Traceback (most recent call last)",
      "Cell \u001b[1;32mIn[5], line 1\u001b[0m\n\u001b[1;32m----> 1\u001b[0m n1 \u001b[38;5;241m=\u001b[39m \u001b[38;5;28;43mint\u001b[39;49m\u001b[43m(\u001b[49m\u001b[38;5;28;43minput\u001b[39;49m\u001b[43m(\u001b[49m\u001b[38;5;124;43m'\u001b[39;49m\u001b[38;5;124;43mDigite um valor\u001b[39;49m\u001b[38;5;124;43m'\u001b[39;49m\u001b[43m)\u001b[49m\u001b[43m)\u001b[49m\n\u001b[0;32m      2\u001b[0m n2 \u001b[38;5;241m=\u001b[39m \u001b[38;5;28mint\u001b[39m(\u001b[38;5;28minput\u001b[39m(\u001b[38;5;124m'\u001b[39m\u001b[38;5;124mDigite outro valor\u001b[39m\u001b[38;5;124m'\u001b[39m))\n\u001b[0;32m      3\u001b[0m s \u001b[38;5;241m=\u001b[39m n1 \u001b[38;5;241m+\u001b[39m n2\n",
      "\u001b[1;31mValueError\u001b[0m: invalid literal for int() with base 10: ''"
     ]
    }
   ],
   "source": [
    "n1 = int(input('Digite um valor'))\n",
    "n2 = int(input('Digite outro valor'))\n",
    "s = n1 + n2\n",
    "print('A soma vale {} e {} vale {}'.format(n1, n2, s))"
   ]
  },
  {
   "cell_type": "markdown",
   "metadata": {},
   "source": [
    "# 04 - Dissecando uma Variável\n",
    "\n",
    "isnumeric() - contém apenas números (dígitos).\n",
    "\n",
    "isalpha() - contém somente letras (sem números ou espaços).\n",
    "\n",
    "isalnum() - contém apenas letras e/ou números, sem espaços ou caracteres especiais.\n",
    "\n",
    "isupper() - contém apenas letras maiúsculas.\n",
    "\n",
    "islower() - ontém apenas letras minúsculas.\n",
    "\n",
    "istitle() - capitalizada, ou seja, cada palavra começa com maiúscula e o restante está em minúscula.\n",
    "\n",
    "a.isspace() - contém apenas espaços\n"
   ]
  },
  {
   "cell_type": "markdown",
   "metadata": {},
   "source": [
    "# 05 - Operadores Aritméticos\n",
    "\n",
    "(+) = Adição\n",
    "\n",
    "(-) = Subtração\n",
    "\n",
    "(*) = Multiplicação\n",
    "\n",
    "(/) = Divisão \n",
    "\n",
    "(**) = Potência \n",
    "\n",
    "(//) = Divisão Inteira\n",
    "\n",
    "(%) = Resto de Divisão \n",
    "\n",
    "Exemplos: \n",
    "\t•\t5 + 2 = 7 (Adição)\n",
    "\n",
    "\t•\t5 - 2 = 3 (Subtração)\n",
    "\n",
    "\t•\t5 * 2 = 10 (Multiplicação)\n",
    "\n",
    "\t•\t5 / 2 = 2.5 (Divisão comum, retorna um número decimal)\n",
    "\n",
    "\t•\t5 ** 2 = 25 (Exponenciação, ou seja, 5 elevado a 2)\n",
    "\n",
    "\t•\t5 // 2 = 2 (Divisão inteira, retorna apenas o quociente inteiro)\n",
    "\t\n",
    "\t•\t5 % 2 = 1 (Módulo, retorna o resto da divisão)\n",
    "\n",
    "### \tOrdem de procedência\n",
    "\n",
    "1 = ()\n",
    "\n",
    "2 = **\n",
    "\n",
    "3 = *, /, //, %\n",
    "\n",
    "4 = +, -\n"
   ]
  },
  {
   "cell_type": "code",
   "execution_count": null,
   "metadata": {},
   "outputs": [
    {
     "name": "stdout",
     "output_type": "stream",
     "text": [
      "A soma é 12, \n",
      " O produto é 32 e a \n",
      " divisão é 0.500 Divisão inteira 0 e potência 65536\n"
     ]
    }
   ],
   "source": [
    "n1 = int(input('Um valor: '))\n",
    "n2 = int(input('Outro valor: '))\n",
    "s = n1 + n2\n",
    "m = n1 * n2 \n",
    "d = n1 / n2 \n",
    "di = n1 // n2\n",
    "e = n1 **n2\n",
    "print('A soma é {}, \\n O produto é {} e a \\n divisão é {:.3f}' .format(s,m,d), end=' ')\n",
    "print('Divisão inteira {} e potência {}'.format(di, e))"
   ]
  },
  {
   "cell_type": "markdown",
   "metadata": {},
   "source": [
    "O \\n é utilizado para pular uma linha, enquanto o parâmetro end= no print() permite juntar múltiplos prints sem a quebra de linha."
   ]
  },
  {
   "cell_type": "markdown",
   "metadata": {},
   "source": [
    "## Utilizando Módulos \n",
    "\n",
    " Importação completa do módulo (import modulo)\n",
    "\n",
    "**Vantagens**: Mantém o código organizado e evita conflitos de nome.\n",
    "\n",
    "**Desvantagem**: Pode deixar o código mais verboso ao ter que usar módulo.função()."
   ]
  },
  {
   "cell_type": "code",
   "execution_count": null,
   "metadata": {},
   "outputs": [],
   "source": [
    "import math  # Importa o módulo math\n",
    "\n",
    "# Usando uma função do módulo\n",
    "raiz = math.sqrt(25)  # sqrt calcula a raiz quadrada\n",
    "print(raiz)  # Saída: 5.0\n"
   ]
  },
  {
   "cell_type": "markdown",
   "metadata": {},
   "source": [
    " **Importação específica (from modulo import item)**\n",
    "\n",
    "Aqui, importamos apenas funções ou variáveis específicas do módulo, podendo usá-las diretamente sem precisar do nome do módulo.\n",
    "\n",
    "**Vantagens**: Código mais curto e legível, já que não precisa do nome do módulo antes da função.\n",
    "\n",
    "**Desvantagem**: Pode gerar conflitos caso outra função com o mesmo nome seja importada."
   ]
  },
  {
   "cell_type": "code",
   "execution_count": null,
   "metadata": {},
   "outputs": [],
   "source": [
    "from math import sqrt  # Importando apenas a função sqrt\n",
    "\n",
    "raiz = sqrt(25)  # Agora podemos usá-la diretamente\n",
    "print(raiz)  # Saída: 5.0\n"
   ]
  },
  {
   "cell_type": "markdown",
   "metadata": {},
   "source": [
    "Podemos também renomear módulos e funções ao importar usando as:"
   ]
  },
  {
   "cell_type": "code",
   "execution_count": null,
   "metadata": {},
   "outputs": [],
   "source": [
    "\n",
    "\n",
    "import math as m  # Renomeia math para m\n",
    "print(m.sqrt(25))  # Saída: 5.0\n",
    "\n",
    "ou,\n",
    "\n",
    "from math import sqrt as raiz_quadrada\n",
    "print(raiz_quadrada(25))  # Saída: 5.0\n"
   ]
  },
  {
   "cell_type": "markdown",
   "metadata": {},
   "source": [
    "## Função - O que faz? - Exemplo (math.) - \tSaída\n",
    "\n",
    "**ceil(x)**\t- Arredonda para cima\t- **ceil(4.3)**\t- 5\n",
    "\n",
    "**floor(x)** - Arredonda para baixo\t- **floor(4.9)**\t- 4\n",
    "\n",
    "**trunc(x)** - Remove a parte decimal\t- **trunc(4.9)** - 4\n",
    "\n",
    "**pow(x, y)** - Potenciação\t- **pow(2, 3)**\t- 8.0\n",
    "\n",
    "**sqrt(x)**\t- Raiz quadrada\t- **sqrt(25)**\t- 5.0\n",
    "\n",
    "**factorial(x)** - Fatorial\t- **factorial(5)**\t- 120"
   ]
  },
  {
   "cell_type": "code",
   "execution_count": 8,
   "metadata": {},
   "outputs": [
    {
     "name": "stdout",
     "output_type": "stream",
     "text": [
      "A raiz de 81 é igual a 9.000\n"
     ]
    }
   ],
   "source": [
    "import math\n",
    "num = int(input('Digite um número: '))\n",
    "raiz = math.sqrt(num)\n",
    "print('A raiz de {} é igual a {:.3f}'.format(num, raiz))"
   ]
  },
  {
   "cell_type": "code",
   "execution_count": 1,
   "metadata": {},
   "outputs": [
    {
     "name": "stdout",
     "output_type": "stream",
     "text": [
      "A raiz de 81 é igual a 9.000\n"
     ]
    }
   ],
   "source": [
    "from math import sqrt\n",
    "num = int(input('Digite um número: '))\n",
    "raiz = sqrt(num)\n",
    "print('A raiz de {} é igual a {:.3f}'.format(num, raiz))"
   ]
  },
  {
   "cell_type": "code",
   "execution_count": null,
   "metadata": {},
   "outputs": [],
   "source": []
  }
 ],
 "metadata": {
  "kernelspec": {
   "display_name": "Python 3",
   "language": "python",
   "name": "python3"
  },
  "language_info": {
   "codemirror_mode": {
    "name": "ipython",
    "version": 3
   },
   "file_extension": ".py",
   "mimetype": "text/x-python",
   "name": "python",
   "nbconvert_exporter": "python",
   "pygments_lexer": "ipython3",
   "version": "3.12.6"
  }
 },
 "nbformat": 4,
 "nbformat_minor": 2
}
